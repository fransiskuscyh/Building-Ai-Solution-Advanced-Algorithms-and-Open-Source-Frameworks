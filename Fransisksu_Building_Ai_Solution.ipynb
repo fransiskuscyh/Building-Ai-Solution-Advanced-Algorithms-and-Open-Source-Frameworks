{
 "cells": [
  {
   "cell_type": "code",
   "execution_count": 1,
   "metadata": {},
   "outputs": [],
   "source": [
    "import tensorflow as tf\n",
    "from tensorflow.keras import datasets, layers, models\n",
    "import matplotlib.pyplot as plt"
   ]
  },
  {
   "cell_type": "code",
   "execution_count": 2,
   "metadata": {},
   "outputs": [],
   "source": [
    "(train_images, train_labels), (test_images, test_labels) = datasets.cifar10.load_data()\n",
    "\n",
    "class_names = ['Airplane', 'Automobile', 'Bird', 'Cat', 'Deer', 'Dog', 'Frog', 'Horse', 'Ship', 'Truck']"
   ]
  },
  {
   "cell_type": "code",
   "execution_count": 3,
   "metadata": {},
   "outputs": [],
   "source": [
    "train_images = train_images / 255.0\n",
    "test_images = test_images / 255.0"
   ]
  },
  {
   "cell_type": "code",
   "execution_count": 4,
   "metadata": {},
   "outputs": [],
   "source": [
    "model = models.Sequential([\n",
    "    layers.Conv2D(32, (3, 3), activation='relu', input_shape=(32, 32, 3)),\n",
    "    layers.MaxPooling2D((2, 2)),\n",
    "    layers.Conv2D(64, (3, 3), activation='relu'),\n",
    "    layers.MaxPooling2D((2, 2)),\n",
    "    layers.Conv2D(64, (3, 3), activation='relu'),\n",
    "    layers.Flatten(),\n",
    "    layers.Dense(64, activation='relu'),\n",
    "    layers.Dense(10)  \n",
    "])\n",
    "\n",
    "model.compile(optimizer='adam',\n",
    "              loss=tf.keras.losses.SparseCategoricalCrossentropy(from_logits=True),\n",
    "              metrics=['accuracy'])"
   ]
  },
  {
   "cell_type": "code",
   "execution_count": 5,
   "metadata": {},
   "outputs": [
    {
     "name": "stdout",
     "output_type": "stream",
     "text": [
      "Epoch 1/10\n",
      "1563/1563 [==============================] - 40s 25ms/step - loss: 1.5114 - accuracy: 0.4469 - val_loss: 1.2562 - val_accuracy: 0.5500\n",
      "Epoch 2/10\n",
      "1563/1563 [==============================] - 38s 24ms/step - loss: 1.1599 - accuracy: 0.5900 - val_loss: 1.0998 - val_accuracy: 0.6095\n",
      "Epoch 3/10\n",
      "1563/1563 [==============================] - 36s 23ms/step - loss: 0.9997 - accuracy: 0.6457 - val_loss: 0.9869 - val_accuracy: 0.6507\n",
      "Epoch 4/10\n",
      "1563/1563 [==============================] - 36s 23ms/step - loss: 0.9034 - accuracy: 0.6816 - val_loss: 0.9546 - val_accuracy: 0.6629\n",
      "Epoch 5/10\n",
      "1563/1563 [==============================] - 37s 24ms/step - loss: 0.8285 - accuracy: 0.7101 - val_loss: 0.8908 - val_accuracy: 0.6947\n",
      "Epoch 6/10\n",
      "1563/1563 [==============================] - 36s 23ms/step - loss: 0.7737 - accuracy: 0.7282 - val_loss: 0.8997 - val_accuracy: 0.6926\n",
      "Epoch 7/10\n",
      "1563/1563 [==============================] - 36s 23ms/step - loss: 0.7274 - accuracy: 0.7441 - val_loss: 0.8567 - val_accuracy: 0.7076\n",
      "Epoch 8/10\n",
      "1563/1563 [==============================] - 36s 23ms/step - loss: 0.6801 - accuracy: 0.7613 - val_loss: 0.8442 - val_accuracy: 0.7140\n",
      "Epoch 9/10\n",
      "1563/1563 [==============================] - 36s 23ms/step - loss: 0.6458 - accuracy: 0.7741 - val_loss: 0.8917 - val_accuracy: 0.7070\n",
      "Epoch 10/10\n",
      "1563/1563 [==============================] - 36s 23ms/step - loss: 0.6137 - accuracy: 0.7824 - val_loss: 0.8408 - val_accuracy: 0.7251\n"
     ]
    }
   ],
   "source": [
    "history = model.fit(train_images, train_labels, epochs=10, validation_data=(test_images, test_labels))"
   ]
  },
  {
   "cell_type": "code",
   "execution_count": 6,
   "metadata": {},
   "outputs": [
    {
     "name": "stdout",
     "output_type": "stream",
     "text": [
      "313/313 - 2s - loss: 0.8408 - accuracy: 0.7251 - 2s/epoch - 7ms/step\n",
      "Test accuracy: 0.7250999808311462\n"
     ]
    }
   ],
   "source": [
    "test_loss, test_acc = model.evaluate(test_images, test_labels, verbose=2)\n",
    "print('Test accuracy:', test_acc)"
   ]
  },
  {
   "cell_type": "code",
   "execution_count": 7,
   "metadata": {},
   "outputs": [
    {
     "data": {
      "image/png": "[encoded data removed]",
      "text/plain": [
       "<Figure size 640x480 with 1 Axes>"
      ]
     },
     "metadata": {},
     "output_type": "display_data"
    }
   ],
   "source": [
    "plt.plot(history.history['accuracy'], label='accuracy')\n",
    "plt.plot(history.history['val_accuracy'], label='val_accuracy')\n",
    "plt.xlabel('Epoch')\n",
    "plt.ylabel('Accuracy')\n",
    "plt.ylim(0, 1)\n",
    "plt.legend(loc='lower right')\n",
    "plt.show()"
   ]
  },
  {
   "cell_type": "markdown",
   "metadata": {},
   "source": [
    "# Analysis\n",
    "\n",
    "This notebook implements a simple CNN model for classifying images in the CIFAR-10 dataset.\n",
    "\n",
    "- **Model**: The model is a sequential CNN with three convolutional layers and two max-pooling layers.\n",
    "- **Dataset**: CIFAR-10 contains 60,000 32x32 color images in 10 classes, with 6,000 images per class.\n",
    "- **Results**: The final accuracy on the test dataset is printed, and the accuracy over epochs is visualized."
   ]
  }
 ],
 "metadata": {
  "kernelspec": {
   "display_name": "Python 3",
   "language": "python",
   "name": "python3"
  },
  "language_info": {
   "codemirror_mode": {
    "name": "ipython",
    "version": 3
   },
   "file_extension": ".py",
   "mimetype": "text/x-python",
   "name": "python",
   "nbconvert_exporter": "python",
   "pygments_lexer": "ipython3",
   "version": "3.8.10"
  }
 },
 "nbformat": 4,
 "nbformat_minor": 4
}
